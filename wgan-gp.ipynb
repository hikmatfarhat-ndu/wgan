{
 "cells": [
  {
   "cell_type": "code",
   "execution_count": 1,
   "metadata": {},
   "outputs": [
    {
     "name": "stdout",
     "output_type": "stream",
     "text": [
      "Loading config file: config.yml\n",
      "DefaultMunch(None, {'name': 'WGAN-GP', 'seed': 42, 'device': 'cuda', 'data_dir': '/home/user/PyTorch-Lightning-GAN/GAN/celeba', 'zdim': 128, 'imsize': 64, 'img_ch': 3, 'w_gp': 10, 'd_iter_per_g': 5, 'lr': DefaultMunch(None, {'g': 0.0001, 'd': 0.0001}), 'batch_size': 256, 'num_workers': 4, 'norm_type': DefaultMunch(None, {'g': 'GroupNorm', 'd': 'GroupNorm'}), 'final_activation': DefaultMunch(None, {'g': 'tanh'}), 'use_fabric': True, 'precision': 'bf16-mixed', 'resume': False, 'epochs': 50, 'save_image_freq': 10, 'save_model_freq': 100, 'weights_dir': 'chkpt', 'images_dir': 'images', 'comet_workspace': 'wgan', 'comet_project': 'wgan-gp', 'samples_dir': 'samples', 'num_sample_epochs': 20})\n"
     ]
    },
    {
     "name": "stderr",
     "output_type": "stream",
     "text": [
      "Using bfloat16 Automatic Mixed Precision (AMP)\n",
      "You are using a CUDA device ('NVIDIA GeForce RTX 3070') that has Tensor Cores. To properly utilize them, you should set `torch.set_float32_matmul_precision('medium' | 'high')` which will trade-off precision for performance. For more details, read https://pytorch.org/docs/stable/generated/torch.set_float32_matmul_precision.html#torch.set_float32_matmul_precision\n"
     ]
    },
    {
     "data": {
      "application/vnd.jupyter.widget-view+json": {
       "model_id": "55a8ffbd7548464c9617263b475239ff",
       "version_major": 2,
       "version_minor": 0
      },
      "text/plain": [
       "Epoch:   0%|                                        | 0/50 [00:00<?, ?it/s]"
      ]
     },
     "metadata": {},
     "output_type": "display_data"
    },
    {
     "name": "stderr",
     "output_type": "stream",
     "text": [
      "\u001b[1;38;5;214mCOMET WARNING:\u001b[0m As you are running in a Jupyter environment, you will need to call `experiment.end()` when finished to ensure all metrics and code are logged before exiting.\n",
      "\u001b[1;38;5;39mCOMET INFO:\u001b[0m Experiment is live on comet.com https://www.comet.com/wgan/wgan-gp/3515b725ded241288e5cbc84798de97c\n",
      "\n"
     ]
    },
    {
     "data": {
      "application/vnd.jupyter.widget-view+json": {
       "model_id": "6cf4187dd1b94d35bbfc0c14b13d02ee",
       "version_major": 2,
       "version_minor": 0
      },
      "text/plain": [
       "Iteration:   0%|          | 0/791 [00:00<?, ?it/s]"
      ]
     },
     "metadata": {},
     "output_type": "display_data"
    },
    {
     "data": {
      "application/vnd.jupyter.widget-view+json": {
       "model_id": "b82216a0ebaa4b6b8cd54dd76137be92",
       "version_major": 2,
       "version_minor": 0
      },
      "text/plain": [
       "Iteration:   0%|          | 0/791 [00:00<?, ?it/s]"
      ]
     },
     "metadata": {},
     "output_type": "display_data"
    },
    {
     "data": {
      "application/vnd.jupyter.widget-view+json": {
       "model_id": "671b30760854470fb6f075adfaa9136c",
       "version_major": 2,
       "version_minor": 0
      },
      "text/plain": [
       "Iteration:   0%|          | 0/791 [00:00<?, ?it/s]"
      ]
     },
     "metadata": {},
     "output_type": "display_data"
    },
    {
     "data": {
      "application/vnd.jupyter.widget-view+json": {
       "model_id": "60e6d5a82ff346388771912a92df8924",
       "version_major": 2,
       "version_minor": 0
      },
      "text/plain": [
       "Iteration:   0%|          | 0/791 [00:00<?, ?it/s]"
      ]
     },
     "metadata": {},
     "output_type": "display_data"
    },
    {
     "data": {
      "application/vnd.jupyter.widget-view+json": {
       "model_id": "008aa92f433d4d48a04732bc7fe2c91e",
       "version_major": 2,
       "version_minor": 0
      },
      "text/plain": [
       "Iteration:   0%|          | 0/791 [00:00<?, ?it/s]"
      ]
     },
     "metadata": {},
     "output_type": "display_data"
    },
    {
     "data": {
      "application/vnd.jupyter.widget-view+json": {
       "model_id": "7b380e5d16024b3a8e3b81660c27a27c",
       "version_major": 2,
       "version_minor": 0
      },
      "text/plain": [
       "Iteration:   0%|          | 0/791 [00:00<?, ?it/s]"
      ]
     },
     "metadata": {},
     "output_type": "display_data"
    },
    {
     "data": {
      "application/vnd.jupyter.widget-view+json": {
       "model_id": "f448625a084446ce8c44d573002a3ef6",
       "version_major": 2,
       "version_minor": 0
      },
      "text/plain": [
       "Iteration:   0%|          | 0/791 [00:00<?, ?it/s]"
      ]
     },
     "metadata": {},
     "output_type": "display_data"
    }
   ],
   "source": [
    "import comet_ml\n",
    "from comet_ml.integration.pytorch import log_model\n",
    "\n",
    "import torch\n",
    "from torchvision.datasets import ImageFolder\n",
    "from torch.utils.data.dataloader import DataLoader\n",
    "import torchvision.transforms as vt\n",
    "\n",
    "\n",
    "#import os\n",
    "import yaml\n",
    "from munch import DefaultMunch\n",
    "from tqdm.notebook import trange,tqdm\n",
    "#from tqdm.notebook import tqdm\n",
    "import random\n",
    "import numpy as np\n",
    "from wgan_gp import WGAN_GP\n",
    "\n",
    "#torch.set_float32_matmul_precision('medium')\n",
    "def set_seed(seed):\n",
    "        torch.backends.cudnn.deterministic = True\n",
    "        random.seed(seed)\n",
    "        np.random.seed(seed)\n",
    "        torch.manual_seed(seed)\n",
    "        torch.cuda.manual_seed_all(seed)\n",
    "\n",
    "\n",
    "cfg_path = \"config.yml\"\n",
    "with open(cfg_path, \"r\") as f:\n",
    "    print(f\"Loading config file: {cfg_path}\")\n",
    "    cfg = yaml.safe_load(f)\n",
    "cfg = DefaultMunch.fromDict(cfg)\n",
    "print(cfg)\n",
    "set_seed(cfg.seed)\n",
    "\n",
    "transforms = vt.Compose([vt.ToTensor(),vt.Normalize(0.5, 0.5),\n",
    "    vt.Resize((cfg.imsize, cfg.imsize),antialias=True)])\n",
    "\n",
    "dataset = ImageFolder(\n",
    "    root=cfg.data_dir, transform=transforms\n",
    ")\n",
    "    \n",
    "dataloader = DataLoader(\n",
    "    dataset,\n",
    "    batch_size=cfg.batch_size,\n",
    "    shuffle=True,\n",
    "    num_workers=4,\n",
    "    drop_last=True,\n",
    ")\n",
    "model=WGAN_GP(cfg)\n",
    "start_epoch=model.starting_epoch\n",
    "loop = trange(start_epoch,start_epoch+cfg.epochs, desc=\"Epoch: \",leave=True)\n",
    "#loop = tqdm(start_epoch,start_epoch+cfg.epochs, desc=\"Epoch: \", ncols=75,leave=True)\n",
    "\n",
    "\n",
    "\n",
    "experiment = comet_ml.Experiment(project_name=cfg.comet_project, log_graph=True,workspace=cfg.comet_workspace)\n",
    "                #                         auto_metric_logging=False, #auto_output_logging=False)\n",
    "experiment.set_name(cfg.precision if cfg.use_fabric else \"full\" )\n",
    "experiment.log_parameters(cfg)\n",
    "experiment.log_parameter(\"starting epoch\",start_epoch)\n",
    "## log the model graph\n",
    "mstr=str(model.generator)+\"\\n\"+str(model.discrim)\n",
    "experiment.set_model_graph(mstr)\n",
    "\n",
    "for epoch in loop:\n",
    "    loss_d,loss_g=model.train_epoch(dataloader)\n",
    "    loop.set_postfix(loss_d=loss_d,loss_g=loss_g)\n",
    "    metrics={'loss_d':loss_d,'loss_g':loss_g}\n",
    "    experiment.log_metrics(metrics, epoch=epoch)\n",
    "    if (epoch+1) % cfg.save_model_freq == 0:\n",
    "        #print(f\"Saving model at epoch {epoch}\")\n",
    "        model.save_model(epoch)\n",
    "        \n",
    "        #fid=model.compute_fid(dataloader=dataloader)\n",
    "        #experiment.log_metric(\"fid\",fid,epoch=epoch)\n",
    "    if(epoch+1) % cfg.save_image_freq == 0:\n",
    "        img=model.save_images(epoch,32)\n",
    "        experiment.log_image(img)\n",
    "        print(f\"Saving images at epoch {epoch}\")\n",
    "\n",
    "model_checkpoint = {\n",
    "        \"epoch\": epoch,\n",
    "        \"g_state_dict\": model.generator.state_dict(),\n",
    "        \"d_state_dict\": model.discrim.state_dict(),\n",
    "        \"optG_state_dict\": model.optG.state_dict(),\n",
    "        \"optD_state_dict\": model.optD.state_dict(),\n",
    "        \"loss_d\":loss_d,\n",
    "        \"loss_g\":loss_g}\n",
    "\n",
    "log_model(experiment, model_checkpoint, model_name=\"GAN-WP\")\n",
    "experiment.end()"
   ]
  }
 ],
 "metadata": {
  "kernelspec": {
   "display_name": "pytorch",
   "language": "python",
   "name": "python3"
  },
  "language_info": {
   "codemirror_mode": {
    "name": "ipython",
    "version": 3
   },
   "file_extension": ".py",
   "mimetype": "text/x-python",
   "name": "python",
   "nbconvert_exporter": "python",
   "pygments_lexer": "ipython3",
   "version": "3.11.5"
  }
 },
 "nbformat": 4,
 "nbformat_minor": 2
}
